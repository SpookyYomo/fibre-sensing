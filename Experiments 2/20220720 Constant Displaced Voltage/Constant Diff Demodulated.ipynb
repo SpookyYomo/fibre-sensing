{
 "cells": [
  {
   "cell_type": "markdown",
   "metadata": {},
   "source": [
    "## Context\n",
    "We notice that the obtained unwrapped phase appears to be invariant from the voltage being displaced from 0."
   ]
  },
  {
   "cell_type": "code",
   "execution_count": null,
   "metadata": {},
   "outputs": [],
   "source": [
    "# Without the use of a transimpedance amplifier, voltage is always postive. Acts on a trace file.\n",
    "\n",
    "# . Honours Module Folder\n",
    "# ├ FYPLibrary\n",
    "# | ├ file_reading.py\n",
    "# | └ IQ_demod.py\n",
    "# └ Sub Project folder i.e.: os.path.abspath('')\n",
    "#   └ This Jupyter notebook(.ipynb)\n",
    "\n",
    "# Initialiastion: Directory appending for my system. Vary the directories as necessary.\n",
    "import sys, os.path\n",
    "# Add the FYP folder for import\n",
    "if 'FYPLibrary' not in [os.path.basename(x) for x in sys.path]:\n",
    "    cur_path = os.path.abspath('')\n",
    "    while 'FYPLibrary' not in os.listdir(cur_path):\n",
    "        cur_path = os.path.dirname(cur_path)\n",
    "        if not cur_path:\n",
    "            raise ValueError('Recursively climbed up directory past root!')\n",
    "    sys.path.append(os.path.join(cur_path, 'FYPLibrary'))\n",
    "    del cur_path"
   ]
  },
  {
   "cell_type": "code",
   "execution_count": null,
   "metadata": {},
   "outputs": [],
   "source": [
    "# from pprint import pprint\n",
    "# pprint(sys.path)"
   ]
  },
  {
   "cell_type": "code",
   "execution_count": null,
   "metadata": {},
   "outputs": [],
   "source": [
    "# Import Modules\n",
    "# from os import listdir\n",
    "from file_reading import *\n",
    "from IQ_demod import *\n",
    "import numpy as np\n",
    "from numpy import pi\n",
    "from EPstandard import easy_read_popt_pcov as print_popt_pcov\n",
    "from scipy.optimize import curve_fit\n",
    "# from scipy.signal import periodogram\n",
    "import matplotlib.pyplot as plt"
   ]
  },
  {
   "cell_type": "code",
   "execution_count": null,
   "metadata": {},
   "outputs": [],
   "source": [
    "trcPath = \"/home/thormund/fibre-sensing/Experiments 2/20220719 Heterodyne Phasemeter Test/traces/C2-140.25-1.0-test00000.trc\""
   ]
  },
  {
   "cell_type": "code",
   "execution_count": null,
   "metadata": {},
   "outputs": [],
   "source": [
    "# Place script specific functions here\n",
    "def displaced_sin(x, A, f, phi, c):\n",
    "    return A * np.sin(2*pi*f*x + phi) + c\n",
    "\n",
    "def get_time_signal_from_trc(file):\n",
    "    # Read and obtain trace\n",
    "    NAME = os.path.basename(file)\n",
    "    if NAME[0] != 'C' and NAME[-4:] != '.txt':\n",
    "        print(f\"[Warning] Unrecognised file reached, Skipping: {NAME}\\n\")\n",
    "        return\n",
    "\n",
    "    # Edit Initialisation\n",
    "    num_vars = numerical_variables_from_name(NAME)\n",
    "    SIGNAL_F = 70.125e6*2 #Hz \n",
    "    SAMPLING_F = 1.0e6 #Hz\n",
    "    ph_ad = phase_advance(SIGNAL_F, SAMPLING_F) # phase advance = 2*pi/N\n",
    "    N, _ = freq_ratio(signal=SIGNAL_F, sample=SAMPLING_F)\n",
    "    print(f\"[Int Debug] {num_vars = } {N = }\")\n",
    "    \n",
    "    # Lecroy parser\n",
    "    time_axis, signals = parse_and_read_oscilliscope_trc(file)\n",
    "    signal = signals[0]\n",
    "\n",
    "    # Time\n",
    "    meta = {'Record Length': (len(signal), 'Points'), \\\n",
    "        'Sample Interval': (1/SAMPLING_F, 's'), \\\n",
    "        'Inverse Sample Interval': (SAMPLING_F, 'Hz'), \\\n",
    "        'Trigger Point': ('unknown', 'Samples'), \\\n",
    "        'Trigger Time': ('unknown', 's'), \\\n",
    "        'Horizontal Offset': ('unknown', 's')}\n",
    "    t_axis = np.arange(start= 0, \n",
    "        stop= (int(meta[\"Record Length\"][0])-N+1), \n",
    "        step= 1) * meta['Inverse Sample Interval'][0]\n",
    "\n",
    "    return ph_ad, t_axis, signal, N, meta, time_axis\n",
    "\n",
    "# For each file in files selected\n",
    "def get_plot(phases, t_axis):\n",
    "    # wd is the write directory for results of this given file\n",
    "    # Edit kwargs as necessary\n",
    "    \n",
    "    # Draw figure\n",
    "    fig, ax = plt.subplots(nrows=1, ncols=1)\n",
    "    ax.plot(t_axis, phases, color = 'mediumblue', linewidth= 0.1)\n",
    "    ax.set_ylabel(r'$\\phi$/rad', usetex= True)\n",
    "    ax.set_xlabel(r'$t$/s', usetex= True)\n",
    "    plt.title(f\"Phase Reconstruction\", usetex= True)\n",
    "    fig.set_size_inches(2.5*(8.25-0.875*2), 6)\n",
    "    fig.tight_layout()\n",
    "    plt.show(block= False)\n",
    "\n",
    "    return"
   ]
  },
  {
   "cell_type": "code",
   "execution_count": null,
   "metadata": {},
   "outputs": [],
   "source": [
    "def process_signal(time_axis, signal):\n",
    "    # Correct for displace voltage\n",
    "    popt, pcov = curve_fit(displaced_sin, time_axis, signal,\n",
    "        p0= [np.max(signal) - np.min(signal), 0.25e6, 0, np.mean(signal)])\n",
    "    signal -= popt[-1]\n",
    "    print_popt_pcov(popt, pcov)\n",
    "    return signal\n",
    "\n",
    "def get_phases(ph_ad, signal, N):\n",
    "    # Yield phases\n",
    "    phases = signal_to_phase(signal, N, ph_ad, phase_advancement_correction= False)\n",
    "    phases = phase_reconstruction_2(phases, ph_ad)\n",
    "    \n",
    "    radii = get_R_signal(signal, N, ph_ad)\n",
    "    print(f\"{np.mean(radii) = }\\n{np.std(radii) = }\")\n",
    "    return phases"
   ]
  },
  {
   "cell_type": "code",
   "execution_count": null,
   "metadata": {},
   "outputs": [],
   "source": [
    "ph_ad, t_axis, signal, N, meta, time_axis = get_time_signal_from_trc(trcPath)\n",
    "def draw_signal(time_axis, signal):\n",
    "    fig, ax = plt.subplots(nrows=1, ncols=1)\n",
    "    ax.plot(time_axis, signal, color = 'mediumblue', linewidth= 0.028)\n",
    "    ax.set_ylabel(r'$\\phi$/rad', usetex= True)\n",
    "    ax.set_xlabel(r'$t$/s', usetex= True)\n",
    "    plt.title(f\"Signal\", usetex= True)\n",
    "    fig.set_size_inches(2.5*(8.25-0.875*2), 6)\n",
    "    fig.tight_layout()\n",
    "    plt.show(block= False)\n",
    "\n",
    "draw_signal(time_axis, signal)"
   ]
  },
  {
   "cell_type": "code",
   "execution_count": null,
   "metadata": {},
   "outputs": [],
   "source": [
    "correct_signal = process_signal(time_axis, signal)\n",
    "draw_signal(time_axis, correct_signal)"
   ]
  },
  {
   "cell_type": "code",
   "execution_count": null,
   "metadata": {},
   "outputs": [],
   "source": [
    "phase_uncorrected = get_phases(ph_ad, signal+2, N)\n",
    "get_plot(phase_uncorrected, t_axis)"
   ]
  },
  {
   "cell_type": "code",
   "execution_count": null,
   "metadata": {},
   "outputs": [],
   "source": [
    "phase_corrected = get_phases(ph_ad, correct_signal, N)\n",
    "get_plot(phase_corrected, t_axis)"
   ]
  },
  {
   "cell_type": "code",
   "execution_count": null,
   "metadata": {},
   "outputs": [],
   "source": [
    "my_signal = np.sin(\n",
    "        np.arange(start= 0, \n",
    "        stop= 5 * pi, \n",
    "        step= pi/2) )\n",
    "\n",
    "def convolution(dphi, signal):\n",
    "    # lookup tables\n",
    "    sines = np.sin([i * dphi for i in range(N)])\n",
    "    cosines = np.cos([i * dphi for i in range(N)])\n",
    "\n",
    "    # summation process # rewrite for direct multiplication\n",
    "    # print(f\"[Debug] {signal[0:N] = }\")\n",
    "    # Is = (2/N) * np.fromiter([np.dot(signal[j:j+N], sines) for j in range(len_signal-N)], \n",
    "    #     dtype= np.float64, count= len_signal-N)\n",
    "    # Qs = (2/N) * np.fromiter([np.dot(signal[j:j+N], cosines) for j in range(len_signal-N)], \n",
    "    #     dtype= np.float64, count= len_signal-N)\n",
    "    Is = (2/N) * np.convolve(signal, sines[::-1], mode= 'valid')\n",
    "    Qs = (2/N) * np.convolve(signal, cosines[::-1], mode= 'valid')\n",
    "    return Is, Qs\n",
    "\n",
    "print(convolution(pi/2, my_signal)[0])\n",
    "print(convolution(pi/2, my_signal+2)[0])"
   ]
  }
 ],
 "metadata": {
  "kernelspec": {
   "display_name": "Python 3.10.5 64-bit ('3.10.5')",
   "language": "python",
   "name": "python3"
  },
  "language_info": {
   "codemirror_mode": {
    "name": "ipython",
    "version": 3
   },
   "file_extension": ".py",
   "mimetype": "text/x-python",
   "name": "python",
   "nbconvert_exporter": "python",
   "pygments_lexer": "ipython3",
   "version": "3.10.5"
  },
  "orig_nbformat": 4,
  "vscode": {
   "interpreter": {
    "hash": "76e8cc6b49689bb1c8239b1d77315b697b1e6957e7f15d39bca5ca130e15ea1b"
   }
  }
 },
 "nbformat": 4,
 "nbformat_minor": 2
}
