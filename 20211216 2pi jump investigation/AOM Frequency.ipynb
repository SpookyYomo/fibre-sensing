{
    "cells": [
        {
            "cell_type": "markdown",
            "metadata": {},
            "source": [
                "Determine the correct AOM frequency to set for a sampling frequency."
            ]
        },
        {
            "cell_type": "code",
            "execution_count": 2,
            "metadata": {},
            "outputs": [],
            "source": [
                "# . Honours Module Folder\n",
                "# ├ FYPLibrary\n",
                "# | ├ file_reading.py\n",
                "# | └ IQ_demod.py\n",
                "# └ Sub Project folder i.e.: os.path.abspath('')\n",
                "#   └ This Jupyter notebook(.ipynb)\n",
                "\n",
                "# Initialization: Directory appending for my system. Vary the directories as necessary.\n",
                "import sys\n",
                "import os.path as path\n",
                "# Add the FYPLibrary folder in the parent level of this folder.\n",
                "if path.join(path.dirname(path.abspath('')), 'FYPLibrary') not in sys.path:\n",
                "    sys.path.append(path.join(path.dirname(path.abspath('')), 'FYPLibrary'))\n",
                "\n",
                "# from pprint import pprint\n",
                "# pprint(sys.path)\n",
                "\n",
                "# within this jupyter notebook\n",
                "from os import listdir\n",
                "from file_reading import *\n",
                "import matplotlib.pyplot as plt\n",
                "from math import pi\n",
                "\n",
                "# updating of library\n",
                "from IQ_demod import freq_ratio"
            ]
        },
        {
            "cell_type": "code",
            "execution_count": 6,
            "metadata": {},
            "outputs": [
                {
                    "name": "stdout",
                    "output_type": "stream",
                    "text": [
                        "Please input the frequency on the computer to be 80.125MHz.\n",
                        "N = 4\n"
                    ]
                }
            ],
            "source": [
                "sample_frequency = 1e6\n",
                "\n",
                "signal_frequency = 160e6 + sample_frequency / 4\n",
                "aom_frequency = signal_frequency/2\n",
                "print(f\"Please input the frequency on the computer to be {aom_frequency/1e6}MHz.\")\n",
                "N, _ = freq_ratio(signal=signal_frequency, sample=sample_frequency)\n",
                "print(f\"{N = }\")"
            ]
        },
        {
            "cell_type": "code",
            "execution_count": null,
            "metadata": {},
            "outputs": [],
            "source": []
        }
    ],
    "metadata": {
        "interpreter": {
            "hash": "1baa965d5efe3ac65b79dfc60c0d706280b1da80fedb7760faf2759126c4f253"
        },
        "kernelspec": {
            "display_name": "Python 3.8.3 64-bit",
            "name": "python3"
        },
        "language_info": {
            "codemirror_mode": {
                "name": "ipython",
                "version": 3
            },
            "file_extension": ".py",
            "mimetype": "text/x-python",
            "name": "python",
            "nbconvert_exporter": "python",
            "pygments_lexer": "ipython3",
            "version": "3.8.3"
        },
        "orig_nbformat": 4
    },
    "nbformat": 4,
    "nbformat_minor": 2
}
