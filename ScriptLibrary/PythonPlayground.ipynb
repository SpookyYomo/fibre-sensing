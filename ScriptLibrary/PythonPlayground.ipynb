{
    "cells": [
        {
            "cell_type": "markdown",
            "metadata": {},
            "source": [
                "This notebook is a base for editing as necessary."
            ]
        },
        {
            "cell_type": "code",
            "execution_count": null,
            "metadata": {},
            "outputs": [],
            "source": [
                "# . Honours Module Folder\n",
                "# ├ FYPLibrary\n",
                "# | ├ file_reading.py\n",
                "# | └ IQ_demod.py\n",
                "# └ Sub Project folder i.e.: os.path.abspath('')\n",
                "#   ├ this notebook(.ipynb)\n",
                "#   └ \"Batch\" folder\n",
                "#     └ C2-xxxHz-xxxmVpp-80.125xxxMHz-comment.txt\n",
                "\n",
                "# Initialization: Directory appending for my system. Vary the directories as necessary.\n",
                "import sys\n",
                "import os.path\n",
                "# Add the FYPLibrary folder in the same level as this folder.\n",
                "if os.path.join(os.path.abspath(''), 'FYPLibrary') not in sys.path:\n",
                "    sys.path.append(os.path.join(os.path.abspath(''), 'FYPLibrary'))\n",
                "\n",
                "# from pprint import pprint\n",
                "# pprint(sys.path)\n",
                "\n",
                "# within this jupyter notebook\n",
                "from os import listdir\n",
                "from file_reading import *\n",
                "from IQ_demod import *\n",
                "import numpy as np\n",
                "import matplotlib.pyplot as plt"
            ]
        },
        {
            "cell_type": "markdown",
            "metadata": {},
            "source": [
                "Edit markdown as needed"
            ]
        },
        {
            "cell_type": "code",
            "execution_count": null,
            "metadata": {},
            "outputs": [],
            "source": [
                "# Step 1: Change the name to which the folder you wish to read from\n",
                "# Yield all files in batch folder\n",
                "folderpath = os.path.join(os.path.abspath(''),'batch 1')\n",
                "\n",
                "files = listdir(path= folderpath)\n",
                "for i, f in enumerate(files):\n",
                "    print(f\"{i:>3}: {f}\")"
            ]
        }
    ],
    "metadata": {
        "interpreter": {
            "hash": "1baa965d5efe3ac65b79dfc60c0d706280b1da80fedb7760faf2759126c4f253"
        },
        "kernelspec": {
            "display_name": "Python 3.8.3 64-bit",
            "name": "python3"
        },
        "language_info": {
            "codemirror_mode": {
                "name": "ipython",
                "version": 3
            },
            "file_extension": ".py",
            "mimetype": "text/x-python",
            "name": "python",
            "nbconvert_exporter": "python",
            "pygments_lexer": "ipython3",
            "version": "3.8.3"
        },
        "orig_nbformat": 4
    },
    "nbformat": 4,
    "nbformat_minor": 2
}
