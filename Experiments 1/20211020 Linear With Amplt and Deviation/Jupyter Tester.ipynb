{
 "cells": [
  {
   "cell_type": "code",
   "execution_count": null,
   "metadata": {},
   "outputs": [],
   "source": [
    "# Initialiastion: Directory appending for my system. Vary the directories as necessary.\n",
    "import sys\n",
    "import os.path, \n",
    "from os import getcwd\n",
    "from pprint import pprint\n",
    "# Jupyter notebook\n",
    "if getcwd() not in sys.path:\n",
    "    sys.path.append(getcwd())\n",
    "if os.path.join(os.path.dirname(getcwd()), 'FYPLibrary') not in sys.path:\n",
    "    sys.path.append()\n",
    "if os.path.dirname(os.path.dirname(__file__)) not in sys.path:\n",
    "    # print(f\"{os.path.dirname(os.path.dirname(__file__)) = }\")\n",
    "    sys.path.append(os.path.dirname(os.path.dirname(__file__)))\n",
    "    sys.path.append(os.path.join(os.path.dirname(os.path.dirname(__file__)), 'FYPLibrary'))\n",
    "# pprint(sys.path)\n",
    "\n",
    "\n",
    "# within this jupyter notebook"
   ]
  },
  {
   "cell_type": "code",
   "execution_count": 1,
   "metadata": {},
   "outputs": [
    {
     "name": "stdout",
     "output_type": "stream",
     "text": [
      "d:\\NUS\\Semester 7\\PC4199 Honours Project\\20211020 Mirror Reading\n"
     ]
    }
   ],
   "source": [
    "import os\n",
    "print(os.getcwd())"
   ]
  },
  {
   "cell_type": "code",
   "execution_count": null,
   "metadata": {},
   "outputs": [],
   "source": []
  }
 ],
 "metadata": {
  "interpreter": {
   "hash": "1baa965d5efe3ac65b79dfc60c0d706280b1da80fedb7760faf2759126c4f253"
  },
  "kernelspec": {
   "display_name": "Python 3.8.3 64-bit",
   "name": "python3"
  },
  "language_info": {
   "codemirror_mode": {
    "name": "ipython",
    "version": 3
   },
   "file_extension": ".py",
   "mimetype": "text/x-python",
   "name": "python",
   "nbconvert_exporter": "python",
   "pygments_lexer": "ipython3",
   "version": "3.8.3"
  },
  "orig_nbformat": 4
 },
 "nbformat": 4,
 "nbformat_minor": 2
}
