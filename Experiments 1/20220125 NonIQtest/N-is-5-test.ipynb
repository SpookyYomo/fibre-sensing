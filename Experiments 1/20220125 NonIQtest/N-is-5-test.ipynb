{
    "cells": [
        {
            "cell_type": "markdown",
            "metadata": {},
            "source": [
                "# Non-IQ investigation"
            ]
        },
        {
            "cell_type": "code",
            "execution_count": 1,
            "metadata": {},
            "outputs": [],
            "source": [
                "# . Honours Module Folder\n",
                "# ├ FYPLibrary\n",
                "# | ├ file_reading.py\n",
                "# | └ IQ_demod.py\n",
                "# └ Sub Project folder i.e.: os.path.abspath('')\n",
                "#   ├ this notebook(.ipynb)\n",
                "#   └ \"Batch\" folder\n",
                "#     └ C2-xxxHz-xxxmVpp-80.125xxxMHz-comment.txt\n",
                "\n",
                "# Initialization: Directory appending for my system. Vary the directories as necessary.\n",
                "import sys\n",
                "import os.path\n",
                "# Add the FYPLibrary folder in the same level as this folder.\n",
                "parent_dir = os.path.dirname(os.path.abspath(''))\n",
                "if os.path.join(parent_dir, 'FYPLibrary') not in sys.path:\n",
                "    sys.path.append(os.path.join(parent_dir, 'FYPLibrary'))\n",
                "del parent_dir\n",
                "\n",
                "# from pprint import pprint\n",
                "# pprint(sys.path)\n",
                "\n",
                "# within this jupyter notebook\n",
                "from os import listdir\n",
                "from file_reading import *\n",
                "from IQ_demod import *\n",
                "import numpy as np\n",
                "import matplotlib.pyplot as plt"
            ]
        },
        {
            "cell_type": "code",
            "execution_count": 3,
            "metadata": {},
            "outputs": [
                {
                    "name": "stdout",
                    "output_type": "stream",
                    "text": [
                        "  0: C280.020Mhz100kS-nothing00000.txt\n",
                        "  1: C280.020Mhz100kS-nothing00001.txt\n",
                        "  2: C280.020Mhz100kS-tapping00000.txt\n",
                        "  3: C280.020Mhz100kS-tapping00001.txt\n"
                    ]
                }
            ],
            "source": [
                "# Step 1: Change the name to which the folder you wish to read from\n",
                "# Yield all files in batch folder\n",
                "# .\\20210914 Oscilliscope Reading Attempt 2\\Nis5data\n",
                "folderpath = os.path.join(os.path.dirname(os.path.abspath('')),'20210914 Initial Ball Drop\\\\Nis5data')\n",
                "\n",
                "files = listdir(path= folderpath)\n",
                "for i, f in enumerate(files):\n",
                "    print(f\"{i:>3}: {f}\")"
            ]
        },
        {
            "cell_type": "code",
            "execution_count": 4,
            "metadata": {},
            "outputs": [],
            "source": [
                "my_input = 3\n",
                "\n",
                "if my_input != -1:\n",
                "    file = files[my_input]\n",
                "\n",
                "NAME = file\n",
                "TXT_FILE_PATH = file_str_to_path(NAME, dir= folderpath)"
            ]
        },
        {
            "cell_type": "code",
            "execution_count": 5,
            "metadata": {},
            "outputs": [
                {
                    "name": "stdout",
                    "output_type": "stream",
                    "text": [
                        "N = 5\n"
                    ]
                }
            ],
            "source": [
                "SIGNAL_F = 80.020e6*2 #Hz \n",
                "SAMPLING_F = 1.0e5 #Hz\n",
                "ph_ad = phase_advance(SIGNAL_F, SAMPLING_F) # phase advance = 2*pi/N\n",
                "N, _ = freq_ratio(signal=SIGNAL_F, sample=SAMPLING_F)\n",
                "print(f\"{N = }\")"
            ]
        },
        {
            "cell_type": "code",
            "execution_count": 6,
            "metadata": {},
            "outputs": [
                {
                    "name": "stdout",
                    "output_type": "stream",
                    "text": [
                        "[Notice] Ignore the following mixed types warning.\n"
                    ]
                },
                {
                    "name": "stderr",
                    "output_type": "stream",
                    "text": [
                        "C:\\Users\\Thormund\\AppData\\Roaming\\Python\\Python38\\site-packages\\IPython\\core\\interactiveshell.py:3377: DtypeWarning: Columns (0,2) have mixed types.Specify dtype option on import or set low_memory=False.\n",
                        "  if (await self.run_code(code, result,  async_=asy)):\n"
                    ]
                }
            ],
            "source": [
                "meta, trace = fr.parse_and_read_oscilliscope_txt(TXT_FILE_PATH)\n",
                "signal = signal_from_trace(np.asarray(trace))"
            ]
        },
        {
            "cell_type": "code",
            "execution_count": 7,
            "metadata": {},
            "outputs": [
                {
                    "name": "stdout",
                    "output_type": "stream",
                    "text": [
                        "phases_accum[:10] = array([ 2.22987815, -1.73250537, -2.88825842, -2.97246179, -0.94926986,\n",
                        "        2.26305476, -1.44477657,  0.55883285, -0.10085422,  0.49146643])\n",
                        "phases_accum[:10] = array([ 2.22987815,  3.2940429 ,  0.88165267, -0.45918779,  0.3073671 ,\n",
                        "        2.26305463,  3.58177151,  4.32874383,  2.4124197 ,  1.74810328])\n"
                    ]
                }
            ],
            "source": [
                "phases_accum = signal_to_phase(signal, N, 2*pi/N, phase_advancement_correction=False)\n",
                "print(f\"{phases_accum[:10] = }\")\n",
                "phases_accum = phase_reconstruction_2(phases_accum, 2*pi/N, False)\n",
                "print(f\"{phases_accum[:10] = }\")\n",
                "t_axis = np.arange(start= 0, \n",
                "    stop= (int(meta[\"Record Length\"][0])-N) * meta['Sample Interval'][0], step= meta['Sample Interval'][0])"
            ]
        },
        {
            "cell_type": "code",
            "execution_count": 8,
            "metadata": {},
            "outputs": [
                {
                    "data": {
                        "text/plain": [
                            "Text(0.5, 1.0, 'Phase Reconstruction 2')"
                        ]
                    },
                    "execution_count": 8,
                    "metadata": {},
                    "output_type": "execute_result"
                },
                {
                    "data": {
                        "image/png": "[encoded data removed]",
                        "text/plain": [
                            "<Figure size 432x288 with 1 Axes>"
                        ]
                    },
                    "metadata": {
                        "needs_background": "light"
                    },
                    "output_type": "display_data"
                }
            ],
            "source": [
                "fig, ax = plt.subplots(nrows=1, ncols=1)\n",
                "ax.plot(t_axis, phases_accum, color = 'mediumblue')\n",
                "ax.set_ylabel(r'$\\phi$/rad', useTex = True)\n",
                "ax.set_xlabel(r'$t$/s', useTex = True)\n",
                "plt.title(f\"Phase Reconstruction 2\", \\\n",
                "    useTex= True )"
            ]
        },
        {
            "cell_type": "code",
            "execution_count": 9,
            "metadata": {},
            "outputs": [
                {
                    "name": "stdout",
                    "output_type": "stream",
                    "text": [
                        "deltas.min() = -3.1414504, deltas.max() = 5.0111604\n"
                    ]
                },
                {
                    "data": {
                        "image/png": "[encoded data removed]",
                        "text/plain": [
                            "<Figure size 738x378 with 1 Axes>"
                        ]
                    },
                    "metadata": {
                        "needs_background": "light"
                    },
                    "output_type": "display_data"
                }
            ],
            "source": [
                "phases_accum = signal_to_phase(signal, N, 2*pi/N, phase_advancement_correction=False)\n",
                "deltas = phase_reconstruction_2(phases_accum, 2*pi/N, get_deltas= True)\n",
                "print(f\"{deltas.min() = }, {deltas.max() = }\")\n",
                "\n",
                "fig, ax = plt.subplots(nrows=1, ncols=1)\n",
                "ax.hist(deltas, bins= 100)\n",
                "ax.set_yscale('log')\n",
                "ax.set_ylabel(r'freq', useTex = False)\n",
                "ax.set_xlabel(r'delta', useTex = False)\n",
                "fig.set_size_inches(11.75-1.5, 8.25-2 - 1)"
            ]
        }
    ],
    "metadata": {
        "interpreter": {
            "hash": "1baa965d5efe3ac65b79dfc60c0d706280b1da80fedb7760faf2759126c4f253"
        },
        "kernelspec": {
            "display_name": "Python 3.8.3 64-bit",
            "name": "python3"
        },
        "language_info": {
            "codemirror_mode": {
                "name": "ipython",
                "version": 3
            },
            "file_extension": ".py",
            "mimetype": "text/x-python",
            "name": "python",
            "nbconvert_exporter": "python",
            "pygments_lexer": "ipython3",
            "version": "3.8.3"
        },
        "orig_nbformat": 4
    },
    "nbformat": 4,
    "nbformat_minor": 2
}
