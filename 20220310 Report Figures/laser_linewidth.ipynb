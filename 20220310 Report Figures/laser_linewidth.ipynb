{
    "cells": [
        {
            "cell_type": "markdown",
            "metadata": {},
            "source": [
                "# Obtaining the laser line width data\n",
                "\n",
                "This is a jupyter notebook to see if the laser line width can be plotted"
            ]
        },
        {
            "cell_type": "code",
            "execution_count": 3,
            "metadata": {},
            "outputs": [],
            "source": [
                "# . Honours Module Folder\n",
                "# ├ FYPLibrary\n",
                "# | ├ file_reading.py\n",
                "# | └ IQ_demod.py\n",
                "# └ Sub Project folder i.e.: os.path.abspath('')\n",
                "#   ├ this notebook(.ipynb)\n",
                "#   └ traces\n",
                "#     └ laserwidth-1km.dat\n",
                "\n",
                "# Initialization: Directory appending for my system. Vary the directories as necessary.\n",
                "import sys\n",
                "import os.path\n",
                "# Add the FYPLibrary folder in the same level as this folder.\n",
                "parent_dir = os.path.dirname(os.path.abspath(''))\n",
                "if os.path.join(parent_dir, 'FYPLibrary') not in sys.path:\n",
                "    sys.path.append(os.path.join(parent_dir, 'FYPLibrary'))\n",
                "del parent_dir\n",
                "\n",
                "# from pprint import pprint\n",
                "# pprint(sys.path)\n",
                "\n",
                "# within this jupyter notebook\n",
                "import numpy as np\n",
                "import matplotlib.pyplot as plt\n",
                "import pandas as pd\n",
                "from numpy import pi\n",
                "from scipy.optimize import curve_fit\n",
                "\n",
                "# import matplotlib.dates as mdates\n",
                "# import matplotlib.units as munits\n"
            ]
        },
        {
            "cell_type": "code",
            "execution_count": 4,
            "metadata": {},
            "outputs": [],
            "source": [
                "def get_files():\n",
                "    # uses tkinter to get the paths. returns all files as selected by UI\n",
                "    # tkinter will not allow for extracting files from multiple folders\n",
                "    import tkinter as tk\n",
                "    from tkinter import filedialog\n",
                "\n",
                "    root = tk.Tk()\n",
                "    root.withdraw()\n",
                "    fs = filedialog.askopenfilenames(initialdir= os.path.dirname(os.path.abspath('')), \n",
                "        title=\"Select files\")\n",
                "    return fs\n",
                "\n",
                "def get_folder():\n",
                "    # uses tkinter to get a folder\n",
                "    import tkinter as tk\n",
                "    from tkinter import filedialog\n",
                "\n",
                "    root = tk.Tk()\n",
                "    root.withdraw()\n",
                "    my_dir = filedialog.askdirectory(initialdir= os.path.dirname(os.path.abspath('')), \n",
                "        title=\"Select directory\")\n",
                "    return my_dir"
            ]
        },
        {
            "cell_type": "markdown",
            "metadata": {},
            "source": [
                "We pull put the processedLogs txt file first."
            ]
        },
        {
            "cell_type": "code",
            "execution_count": 5,
            "metadata": {},
            "outputs": [],
            "source": [
                "# Step 1: Change the name to which the folder you wish to read from\n",
                "# Yield all files in batch folder\n",
                "file = os.path.join(os.path.abspath(''), \"traces\", \"laserwidth-1km.dat\")"
            ]
        },
        {
            "cell_type": "code",
            "execution_count": 6,
            "metadata": {},
            "outputs": [],
            "source": [
                "data_table = pd.read_csv(file, sep= '\\s+', header= None, names = ('freq_v', 'dBm_v'))"
            ]
        },
        {
            "cell_type": "code",
            "execution_count": 7,
            "metadata": {},
            "outputs": [
                {
                    "data": {
                        "text/html": [
                            "<div>\n",
                            "<style scoped>\n",
                            "    .dataframe tbody tr th:only-of-type {\n",
                            "        vertical-align: middle;\n",
                            "    }\n",
                            "\n",
                            "    .dataframe tbody tr th {\n",
                            "        vertical-align: top;\n",
                            "    }\n",
                            "\n",
                            "    .dataframe thead th {\n",
                            "        text-align: right;\n",
                            "    }\n",
                            "</style>\n",
                            "<table border=\"1\" class=\"dataframe\">\n",
                            "  <thead>\n",
                            "    <tr style=\"text-align: right;\">\n",
                            "      <th></th>\n",
                            "      <th>freq_v</th>\n",
                            "      <th>dBm_v</th>\n",
                            "    </tr>\n",
                            "  </thead>\n",
                            "  <tbody>\n",
                            "    <tr>\n",
                            "      <th>0</th>\n",
                            "      <td>1.312500e+08</td>\n",
                            "      <td>-66.328705</td>\n",
                            "    </tr>\n",
                            "    <tr>\n",
                            "      <th>1</th>\n",
                            "      <td>1.312817e+08</td>\n",
                            "      <td>-66.329117</td>\n",
                            "    </tr>\n",
                            "    <tr>\n",
                            "      <th>2</th>\n",
                            "      <td>1.313135e+08</td>\n",
                            "      <td>-66.579544</td>\n",
                            "    </tr>\n",
                            "    <tr>\n",
                            "      <th>3</th>\n",
                            "      <td>1.313452e+08</td>\n",
                            "      <td>-66.583237</td>\n",
                            "    </tr>\n",
                            "    <tr>\n",
                            "      <th>4</th>\n",
                            "      <td>1.313770e+08</td>\n",
                            "      <td>-66.546165</td>\n",
                            "    </tr>\n",
                            "    <tr>\n",
                            "      <th>...</th>\n",
                            "      <td>...</td>\n",
                            "      <td>...</td>\n",
                            "    </tr>\n",
                            "    <tr>\n",
                            "      <th>626</th>\n",
                            "      <td>1.511230e+08</td>\n",
                            "      <td>-69.454544</td>\n",
                            "    </tr>\n",
                            "    <tr>\n",
                            "      <th>627</th>\n",
                            "      <td>1.511548e+08</td>\n",
                            "      <td>-69.437592</td>\n",
                            "    </tr>\n",
                            "    <tr>\n",
                            "      <th>628</th>\n",
                            "      <td>1.511865e+08</td>\n",
                            "      <td>-68.342941</td>\n",
                            "    </tr>\n",
                            "    <tr>\n",
                            "      <th>629</th>\n",
                            "      <td>1.512183e+08</td>\n",
                            "      <td>-69.382378</td>\n",
                            "    </tr>\n",
                            "    <tr>\n",
                            "      <th>630</th>\n",
                            "      <td>1.512500e+08</td>\n",
                            "      <td>-70.426666</td>\n",
                            "    </tr>\n",
                            "  </tbody>\n",
                            "</table>\n",
                            "<p>631 rows × 2 columns</p>\n",
                            "</div>"
                        ],
                        "text/plain": [
                            "           freq_v      dBm_v\n",
                            "0    1.312500e+08 -66.328705\n",
                            "1    1.312817e+08 -66.329117\n",
                            "2    1.313135e+08 -66.579544\n",
                            "3    1.313452e+08 -66.583237\n",
                            "4    1.313770e+08 -66.546165\n",
                            "..            ...        ...\n",
                            "626  1.511230e+08 -69.454544\n",
                            "627  1.511548e+08 -69.437592\n",
                            "628  1.511865e+08 -68.342941\n",
                            "629  1.512183e+08 -69.382378\n",
                            "630  1.512500e+08 -70.426666\n",
                            "\n",
                            "[631 rows x 2 columns]"
                        ]
                    },
                    "execution_count": 7,
                    "metadata": {},
                    "output_type": "execute_result"
                }
            ],
            "source": [
                "data_table"
            ]
        },
        {
            "cell_type": "code",
            "execution_count": 8,
            "metadata": {},
            "outputs": [],
            "source": [
                "freq = data_table['freq_v'].values\n",
                "freq_MHz = freq / 1e6\n",
                "dBm = data_table['dBm_v'].values\n",
                "yvals = np.power(10, dBm)"
            ]
        },
        {
            "cell_type": "code",
            "execution_count": null,
            "metadata": {},
            "outputs": [],
            "source": [
                "def r_squared(predicted_y, data_y):\n",
                "    absE = predicted_y - data_y\n",
                "    return 1.0 - (np.var(absE)/np.var(data_y))\n",
                "\n",
                "def adjusted_r_squared(predicted_y, data_y, p):\n",
                "    # p is the number of explainatory variables\n",
                "    # print(f\"[Debug] {predicted_y.size = }\")\n",
                "    return 1- (1-r_squared(predicted_y, data_y)) \\\n",
                "        *(predicted_y.size - 1)/(predicted_y.size - p)\n",
                "        \n",
                "def my_cauchy(x,A,mu,gamma):\n",
                "    return A * np.power(gamma, 2)/(np.power(x-mu, 2)+np.power(gamma, 2))\n",
                "\n",
                "def my_cauchy2(x, gamma, a , b):\n",
                "    return b+10*np.log10(gamma**2/((x-a)**2+gamma**2))"
            ]
        },
        {
            "cell_type": "code",
            "execution_count": null,
            "metadata": {},
            "outputs": [
                {
                    "name": "stdout",
                    "output_type": "stream",
                    "text": [
                        "631\n",
                        "freq_MHz[0] = 131.25\n",
                        "631\n",
                        "yvals[0] = 4.6913211705524576e-67\n",
                        "np.power(10, dBm[0]) = 4.6913211705524576e-67\n"
                    ]
                }
            ],
            "source": [
                "print(freq_MHz.size)\n",
                "print(f\"{freq_MHz[0] = }\")\n",
                "print(yvals.size)\n",
                "print(f\"{yvals[0] = }\")\n",
                "print(f\"{np.power(10, dBm[0]) = }\")"
            ]
        },
        {
            "cell_type": "code",
            "execution_count": null,
            "metadata": {},
            "outputs": [
                {
                    "name": "stdout",
                    "output_type": "stream",
                    "text": [
                        "[ 2.45827819e+05  1.41203084e+08 -3.59563380e+01]\n",
                        "cauchy_adjr = 0.9814678148432997\n"
                    ]
                }
            ],
            "source": [
                "# cauchy_popt, cauchy_pcov = curve_fit(my_cauchy, freq_MHz, yvals,\n",
                "#     p0 = [np.power(10,-35.922), 141.214, 245e3],\n",
                "#     bounds= ((0,0,0), (np.inf, np.inf, np.inf)))\n",
                "my_p0 = [245115, 141.214e6, -35.9321]\n",
                "cauchy_popt, cauchy_pcov = curve_fit(my_cauchy2, freq, dBm,\n",
                "    p0= my_p0)\n",
                "print(cauchy_popt)\n",
                "cauchy_adjr = adjusted_r_squared(my_cauchy2(freq, *cauchy_popt), dBm, 3)\n",
                "print(f\"{cauchy_adjr = }\")"
            ]
        },
        {
            "cell_type": "markdown",
            "metadata": {},
            "source": [
                "Now trying to plot std_dev against time"
            ]
        },
        {
            "cell_type": "code",
            "execution_count": null,
            "metadata": {},
            "outputs": [
                {
                    "data": {
                        "image/png": "[encoded data removed]",
                        "text/plain": [
                            "<Figure size 738x378 with 1 Axes>"
                        ]
                    },
                    "metadata": {
                        "needs_background": "light"
                    },
                    "output_type": "display_data"
                }
            ],
            "source": [
                "fig, ax = plt.subplots(nrows=1, ncols=1)\n",
                "ax.scatter(freq, 10**dBm, s= 4)\n",
                "ax.plot(freq, 10**my_cauchy2(freq, *my_p0), color = 'red')\n",
                "# ax.scatter(freq_MHz, yvals)\n",
                "# ax.plot(freq_MHz, my_cauchy(freq_MHz, *cauchy_popt), lw=1, color= 'red')\n",
                "ax.set_yscale('log')\n",
                "ax.set_xlabel('Freq Offset', usetex= False)\n",
                "fig.set_size_inches(11.75-1.5, 1*(8.25-2 - 1))"
            ]
        },
        {
            "cell_type": "code",
            "execution_count": null,
            "metadata": {},
            "outputs": [
                {
                    "data": {
                        "image/png": "[encoded data removed]",
                        "text/plain": [
                            "<Figure size 738x378 with 1 Axes>"
                        ]
                    },
                    "metadata": {
                        "needs_background": "light"
                    },
                    "output_type": "display_data"
                }
            ],
            "source": [
                "fig, ax = plt.subplots(nrows=1, ncols=1)\n",
                "\n",
                "mu = 141.214\n",
                "my_p02 = [245115e-6, 0, -35.9321]\n",
                "ax.plot(freq_MHz-mu, my_cauchy2(freq_MHz-mu, *my_p02), color = 'red')\n",
                "ax.scatter(freq_MHz-mu, dBm, s= 4)\n",
                "# ax.scatter(freq_MHz, yvals)\n",
                "# ax.plot(freq_MHz, my_cauchy(freq_MHz, *cauchy_popt), lw=1, color= 'red')\n",
                "# ax.set_yscale('log')\n",
                "ax.set_ylabel(r'Power Spectrum/dBm', usetex= True)\n",
                "ax.set_xlabel(r'$f$ Offset/MHz', usetex= True)\n",
                "fig.set_size_inches(11.75-1.5, 1*(8.25-2 - 1))"
            ]
        },
        {
            "cell_type": "code",
            "execution_count": null,
            "metadata": {},
            "outputs": [],
            "source": []
        }
    ],
    "metadata": {
        "interpreter": {
            "hash": "1baa965d5efe3ac65b79dfc60c0d706280b1da80fedb7760faf2759126c4f253"
        },
        "kernelspec": {
            "display_name": "Python 3.8.3 64-bit",
            "name": "python3"
        },
        "language_info": {
            "codemirror_mode": {
                "name": "ipython",
                "version": 3
            },
            "file_extension": ".py",
            "mimetype": "text/x-python",
            "name": "python",
            "nbconvert_exporter": "python",
            "pygments_lexer": "ipython3",
            "version": "3.10.2"
        },
        "orig_nbformat": 4
    },
    "nbformat": 4,
    "nbformat_minor": 2
}
