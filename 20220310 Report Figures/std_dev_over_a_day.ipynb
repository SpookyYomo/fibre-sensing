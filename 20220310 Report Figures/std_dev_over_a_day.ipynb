{
    "cells": [
        {
            "cell_type": "markdown",
            "metadata": {},
            "source": [
                "# Std Deviation of $\\phi_{i-1} (t)$ for data collected once ever 61s as a function of sampling frequency $f_s$\n",
                "\n",
                "This is a jupyter notebook to see if the std-dev can be plotted as a time series."
            ]
        },
        {
            "cell_type": "code",
            "execution_count": 1,
            "metadata": {},
            "outputs": [],
            "source": [
                "# . Honours Module Folder\n",
                "# ├ FYPLibrary\n",
                "# | ├ file_reading.py\n",
                "# | └ IQ_demod.py\n",
                "# └ Sub Project folder i.e.: os.path.abspath('')\n",
                "#   ├ this notebook(.ipynb)\n",
                "#   └ traces\n",
                "#     └ processedLogs-20220224-1557.txt\n",
                "\n",
                "# Initialization: Directory appending for my system. Vary the directories as necessary.\n",
                "import sys\n",
                "import os.path\n",
                "# Add the FYPLibrary folder in the same level as this folder.\n",
                "parent_dir = os.path.dirname(os.path.abspath(''))\n",
                "if os.path.join(parent_dir, 'FYPLibrary') not in sys.path:\n",
                "    sys.path.append(os.path.join(parent_dir, 'FYPLibrary'))\n",
                "del parent_dir\n",
                "\n",
                "# from pprint import pprint\n",
                "# pprint(sys.path)\n",
                "\n",
                "# within this jupyter notebook\n",
                "import numpy as np\n",
                "import matplotlib.pyplot as plt\n",
                "import pandas as pd\n",
                "\n",
                "import matplotlib.dates as mdates\n",
                "import matplotlib.units as munits\n"
            ]
        },
        {
            "cell_type": "code",
            "execution_count": 2,
            "metadata": {},
            "outputs": [],
            "source": [
                "def get_files():\n",
                "    # uses tkinter to get the paths. returns all files as selected by UI\n",
                "    # tkinter will not allow for extracting files from multiple folders\n",
                "    import tkinter as tk\n",
                "    from tkinter import filedialog\n",
                "\n",
                "    root = tk.Tk()\n",
                "    root.withdraw()\n",
                "    fs = filedialog.askopenfilenames(initialdir= os.path.dirname(os.path.abspath('')), \n",
                "        title=\"Select files\")\n",
                "    return fs\n",
                "\n",
                "def get_folder():\n",
                "    # uses tkinter to get a folder\n",
                "    import tkinter as tk\n",
                "    from tkinter import filedialog\n",
                "\n",
                "    root = tk.Tk()\n",
                "    root.withdraw()\n",
                "    my_dir = filedialog.askdirectory(initialdir= os.path.dirname(os.path.abspath('')), \n",
                "        title=\"Select directory\")\n",
                "    return my_dir"
            ]
        },
        {
            "cell_type": "markdown",
            "metadata": {},
            "source": [
                "We pull put the processedLogs txt file first."
            ]
        },
        {
            "cell_type": "code",
            "execution_count": 3,
            "metadata": {},
            "outputs": [],
            "source": [
                "# Step 1: Change the name to which the folder you wish to read from\n",
                "# Yield all files in batch folder\n",
                "file = os.path.join(os.path.abspath(''), \"traces\", \"processedLogs-20220224-1557.txt\")"
            ]
        },
        {
            "cell_type": "code",
            "execution_count": 4,
            "metadata": {},
            "outputs": [],
            "source": [
                "data_table = pd.read_csv(file, sep= '\\t', header= None, names = ('id', 'mean_v', 'std_dev', 'max_v', 'min_v'))"
            ]
        },
        {
            "cell_type": "code",
            "execution_count": 5,
            "metadata": {},
            "outputs": [
                {
                    "data": {
                        "text/html": [
                            "<div>\n",
                            "<style scoped>\n",
                            "    .dataframe tbody tr th:only-of-type {\n",
                            "        vertical-align: middle;\n",
                            "    }\n",
                            "\n",
                            "    .dataframe tbody tr th {\n",
                            "        vertical-align: top;\n",
                            "    }\n",
                            "\n",
                            "    .dataframe thead th {\n",
                            "        text-align: right;\n",
                            "    }\n",
                            "</style>\n",
                            "<table border=\"1\" class=\"dataframe\">\n",
                            "  <thead>\n",
                            "    <tr style=\"text-align: right;\">\n",
                            "      <th></th>\n",
                            "      <th>id</th>\n",
                            "      <th>mean_v</th>\n",
                            "      <th>std_dev</th>\n",
                            "      <th>max_v</th>\n",
                            "      <th>min_v</th>\n",
                            "    </tr>\n",
                            "  </thead>\n",
                            "  <tbody>\n",
                            "    <tr>\n",
                            "      <th>0</th>\n",
                            "      <td>0</td>\n",
                            "      <td>-4.130254</td>\n",
                            "      <td>2.580797</td>\n",
                            "      <td>4.180119</td>\n",
                            "      <td>-11.239012</td>\n",
                            "    </tr>\n",
                            "    <tr>\n",
                            "      <th>1</th>\n",
                            "      <td>1</td>\n",
                            "      <td>-2.139741</td>\n",
                            "      <td>2.677463</td>\n",
                            "      <td>5.541224</td>\n",
                            "      <td>-10.449571</td>\n",
                            "    </tr>\n",
                            "    <tr>\n",
                            "      <th>2</th>\n",
                            "      <td>2</td>\n",
                            "      <td>1.184191</td>\n",
                            "      <td>3.287589</td>\n",
                            "      <td>9.709695</td>\n",
                            "      <td>-7.550838</td>\n",
                            "    </tr>\n",
                            "    <tr>\n",
                            "      <th>3</th>\n",
                            "      <td>3</td>\n",
                            "      <td>-0.006861</td>\n",
                            "      <td>4.399132</td>\n",
                            "      <td>11.090039</td>\n",
                            "      <td>-13.581981</td>\n",
                            "    </tr>\n",
                            "    <tr>\n",
                            "      <th>4</th>\n",
                            "      <td>4</td>\n",
                            "      <td>-1.353977</td>\n",
                            "      <td>2.147923</td>\n",
                            "      <td>6.724345</td>\n",
                            "      <td>-8.708075</td>\n",
                            "    </tr>\n",
                            "    <tr>\n",
                            "      <th>...</th>\n",
                            "      <td>...</td>\n",
                            "      <td>...</td>\n",
                            "      <td>...</td>\n",
                            "      <td>...</td>\n",
                            "      <td>...</td>\n",
                            "    </tr>\n",
                            "    <tr>\n",
                            "      <th>1416</th>\n",
                            "      <td>1416</td>\n",
                            "      <td>0.679594</td>\n",
                            "      <td>1.770981</td>\n",
                            "      <td>6.860932</td>\n",
                            "      <td>-6.301727</td>\n",
                            "    </tr>\n",
                            "    <tr>\n",
                            "      <th>1417</th>\n",
                            "      <td>1417</td>\n",
                            "      <td>3.059214</td>\n",
                            "      <td>2.964348</td>\n",
                            "      <td>12.280196</td>\n",
                            "      <td>-4.162862</td>\n",
                            "    </tr>\n",
                            "    <tr>\n",
                            "      <th>1418</th>\n",
                            "      <td>1418</td>\n",
                            "      <td>9.353444</td>\n",
                            "      <td>5.508354</td>\n",
                            "      <td>46.697426</td>\n",
                            "      <td>-31.897588</td>\n",
                            "    </tr>\n",
                            "    <tr>\n",
                            "      <th>1419</th>\n",
                            "      <td>1419</td>\n",
                            "      <td>6.576099</td>\n",
                            "      <td>1.753970</td>\n",
                            "      <td>13.519073</td>\n",
                            "      <td>0.173700</td>\n",
                            "    </tr>\n",
                            "    <tr>\n",
                            "      <th>1420</th>\n",
                            "      <td>1420</td>\n",
                            "      <td>2.090169</td>\n",
                            "      <td>1.368151</td>\n",
                            "      <td>6.991252</td>\n",
                            "      <td>-3.258738</td>\n",
                            "    </tr>\n",
                            "  </tbody>\n",
                            "</table>\n",
                            "<p>1421 rows × 5 columns</p>\n",
                            "</div>"
                        ],
                        "text/plain": [
                            "        id    mean_v   std_dev      max_v      min_v\n",
                            "0        0 -4.130254  2.580797   4.180119 -11.239012\n",
                            "1        1 -2.139741  2.677463   5.541224 -10.449571\n",
                            "2        2  1.184191  3.287589   9.709695  -7.550838\n",
                            "3        3 -0.006861  4.399132  11.090039 -13.581981\n",
                            "4        4 -1.353977  2.147923   6.724345  -8.708075\n",
                            "...    ...       ...       ...        ...        ...\n",
                            "1416  1416  0.679594  1.770981   6.860932  -6.301727\n",
                            "1417  1417  3.059214  2.964348  12.280196  -4.162862\n",
                            "1418  1418  9.353444  5.508354  46.697426 -31.897588\n",
                            "1419  1419  6.576099  1.753970  13.519073   0.173700\n",
                            "1420  1420  2.090169  1.368151   6.991252  -3.258738\n",
                            "\n",
                            "[1421 rows x 5 columns]"
                        ]
                    },
                    "execution_count": 5,
                    "metadata": {},
                    "output_type": "execute_result"
                }
            ],
            "source": [
                "data_table"
            ]
        },
        {
            "cell_type": "code",
            "execution_count": 6,
            "metadata": {},
            "outputs": [],
            "source": [
                "starttime = np.datetime64('2022-02-24 15:57')\n",
                "my_time_delta = data_table['id'].values * 61\n",
                "time_axis = starttime + pd.to_timedelta(my_time_delta, 'S') \n",
                "y_vals = data_table['std_dev'].values"
            ]
        },
        {
            "cell_type": "markdown",
            "metadata": {},
            "source": [
                "Now trying to plot std_dev against time"
            ]
        },
        {
            "cell_type": "code",
            "execution_count": 7,
            "metadata": {},
            "outputs": [
                {
                    "data": {
                        "image/png": "[encoded data removed]",
                        "text/plain": [
                            "<Figure size 738x378 with 1 Axes>"
                        ]
                    },
                    "metadata": {
                        "needs_background": "light"
                    },
                    "output_type": "display_data"
                }
            ],
            "source": [
                "fig, ax = plt.subplots(nrows=1, ncols=1)\n",
                "# ax.plot(time_axis, y_vals, linewidth= 0.8)\n",
                "ax.bar(time_axis, y_vals, width= 0.0008)\n",
                "ax.set_xlabel('Time', usetex= False)\n",
                "fig.set_size_inches(11.75-1.5, 1*(8.25-2 - 1))"
            ]
        },
        {
            "cell_type": "code",
            "execution_count": 10,
            "metadata": {},
            "outputs": [
                {
                    "data": {
                        "image/png": "[encoded data removed]",
                        "text/plain": [
                            "<Figure size 738x378 with 1 Axes>"
                        ]
                    },
                    "metadata": {
                        "needs_background": "light"
                    },
                    "output_type": "display_data"
                }
            ],
            "source": [
                "fig, ax = plt.subplots(nrows=1, ncols=1)\n",
                "locator = mdates.AutoDateLocator()\n",
                "formatter = mdates.ConciseDateFormatter(locator)\n",
                "formatter.formats = ['%y',  # ticks are mostly years\n",
                "                        '%b',       # ticks are mostly months\n",
                "                        '%d',       # ticks are mostly days\n",
                "                        '%H:%M',    # hrs\n",
                "                        '%H:%M',    # min\n",
                "                        '%S.%f', ]  # secs\n",
                "# these are mostly just the level above...\n",
                "formatter.zero_formats = [''] + formatter.formats[:-1]\n",
                "# ...except for ticks that are mostly hours, then it is nice to have\n",
                "# month-day:\n",
                "formatter.zero_formats[3] = '%d-%b'\n",
                "\n",
                "formatter.offset_formats = ['',\n",
                "                            '%Y',\n",
                "                            '%b %Y',\n",
                "                            '%d %b %Y',\n",
                "                            '%d %b %Y',\n",
                "                            '%d %b %Y %H:%M', ]\n",
                "ax.xaxis.set_major_locator(locator)\n",
                "ax.xaxis.set_major_formatter(formatter)\n",
                "\n",
                "ax.bar(time_axis, y_vals, width= 0.0008)\n",
                "ax.set_ylabel('Standard Deviation $\\sigma$/rad', usetex= True)\n",
                "ax.set_xlabel('Time', usetex= False)\n",
                "fig.set_size_inches(11.75-1.5, 1*(8.25-2 - 1))"
            ]
        },
        {
            "cell_type": "code",
            "execution_count": null,
            "metadata": {},
            "outputs": [],
            "source": []
        }
    ],
    "metadata": {
        "interpreter": {
            "hash": "1baa965d5efe3ac65b79dfc60c0d706280b1da80fedb7760faf2759126c4f253"
        },
        "kernelspec": {
            "display_name": "Python 3.8.3 64-bit",
            "name": "python3"
        },
        "language_info": {
            "codemirror_mode": {
                "name": "ipython",
                "version": 3
            },
            "file_extension": ".py",
            "mimetype": "text/x-python",
            "name": "python",
            "nbconvert_exporter": "python",
            "pygments_lexer": "ipython3",
            "version": "3.10.2"
        },
        "orig_nbformat": 4
    },
    "nbformat": 4,
    "nbformat_minor": 2
}
