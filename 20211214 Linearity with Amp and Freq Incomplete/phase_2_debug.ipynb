{
 "cells": [
  {
   "cell_type": "code",
   "execution_count": 1,
   "metadata": {},
   "outputs": [],
   "source": [
    "# This script aims to debug the NEW (array-level) operation of \n",
    "# phase_reconstruction_2, i.e.: phase accumulation model. The choice of \n",
    "# trace is given by an explicit path.\n",
    "\n",
    "# . Honours Module Folder\n",
    "# ├ FYPLibrary\n",
    "# | ├ file_reading.py\n",
    "# | └ IQ_demod.py\n",
    "# └ Sub Project folder\n",
    "#   └ this script(.py)\n",
    "\n",
    "# Initialization: Directory appending for my system. Vary the directories as necessary.\n",
    "import sys\n",
    "import os.path as path\n",
    "# Add the FYPLibrary folder in the parent level of this folder.\n",
    "if path.join(path.dirname(path.abspath('')), 'FYPLibrary') not in sys.path:\n",
    "    sys.path.append(path.join(path.dirname(path.abspath('')), 'FYPLibrary'))\n",
    "\n",
    "# from pprint import pprint\n",
    "# pprint(sys.path)\n",
    "\n",
    "# Import Modules\n",
    "from os import listdir\n",
    "from file_reading import *\n",
    "from IQ_demod import *\n",
    "import numpy as np\n",
    "import matplotlib.pyplot as plt\n",
    "# from EPstandard import easy_read_popt_pcov\n",
    "# from scipy import optimize\n",
    "# from matplotlib.ticker import AutoMinorLocator\n",
    "\n"
   ]
  },
  {
   "cell_type": "code",
   "execution_count": 2,
   "metadata": {},
   "outputs": [
    {
     "name": "stdout",
     "output_type": "stream",
     "text": [
      "  0: C1-004Hz-020.2mVpp-80.125000MHz-OneAmp00002.txt\n",
      "  1: C1-004Hz-020.4mVpp-80.125000MHz-OneAmp00001.txt\n",
      "  2: C1-122Hz-020mVpp-80.125000MHz-OneAmp00001.txt\n",
      "  3: C2-000Hz-000mVpp-80.1250448MHz00004.txt\n",
      "  4: C2-000Hz-000mVpp-80.1250448MHz00005.txt\n",
      "  5: C2-ball-drop-00002.txt\n",
      "TXT_FILE_PATH = 'D:\\\\NUS\\\\Semester 7\\\\PC4199 Honours Project\\\\20211215 phase reconstruction experimental\\\\traces\\\\C2-000Hz-000mVpp-80.1250448MHz00004.txt'\n",
      "N = 4\n",
      "[Notice] Ignore the following mixed types warning.\n"
     ]
    }
   ],
   "source": [
    "\n",
    "folderpath = r'D:\\NUS\\Semester 7\\PC4199 Honours Project\\20211215 phase reconstruction experimental\\traces'\n",
    "for i, f in enumerate(files:= listdir(path= folderpath)):\n",
    "    print(f\"{i:>3}: {f}\")\n",
    "# my_input = int(input(\"Please specify which file you would like to generate a periodogram of: \"))\n",
    "my_input = 3\n",
    "NAME = files[my_input]\n",
    "TXT_FILE_PATH = file_str_to_path(NAME, dir=folderpath)\n",
    "print(f\"{TXT_FILE_PATH = }\")\n",
    "\n",
    "SIGNAL_F = 80.125e6 *2\n",
    "SAMPLING_F = 1e6\n",
    "N, _ = freq_ratio(signal= SIGNAL_F, sample= SAMPLING_F)\n",
    "\n",
    "print(f\"{N = }\")\n",
    "\n",
    "meta, trace = parse_and_read_oscilliscope_txt(TXT_FILE_PATH)\n",
    "signal = signal_from_trace(np.asarray(trace))"
   ]
  },
  {
   "cell_type": "code",
   "execution_count": 4,
   "metadata": {},
   "outputs": [],
   "source": [
    "phasesORIG = signal_to_phase(signal, N, 2*pi/N, phase_advancement_correction= False)\n"
   ]
  },
  {
   "cell_type": "code",
   "execution_count": 5,
   "metadata": {},
   "outputs": [],
   "source": [
    "phases1 = phase_reconstruction_2(phasesORIG, phase_advance= 2*pi/N)\n"
   ]
  },
  {
   "cell_type": "code",
   "execution_count": null,
   "metadata": {},
   "outputs": [],
   "source": [
    "phases2 = phase_reconstruction_2_one(phasesORIG, phase_advance= 2*pi/N)\n"
   ]
  },
  {
   "cell_type": "code",
   "execution_count": null,
   "metadata": {},
   "outputs": [],
   "source": [
    "phases3 = phase_reconstruction_2_two(phasesORIG, phase_advance= 2*pi/N)\n"
   ]
  },
  {
   "cell_type": "code",
   "execution_count": 6,
   "metadata": {},
   "outputs": [
    {
     "data": {
      "image/png": "[encoded data removed]",
      "text/plain": [
       "<Figure size 738x378 with 1 Axes>"
      ]
     },
     "metadata": {
      "needs_background": "light"
     },
     "output_type": "display_data"
    }
   ],
   "source": [
    "t_axis = np.arange(start= 0, \n",
    "    stop= (int(meta[\"Record Length\"][0])-N) * meta['Sample Interval'][0],\n",
    "    step= meta['Sample Interval'][0])\n",
    "\n",
    "fig, ax = plt.subplots(nrows=1, ncols=1)\n",
    "ax.plot(t_axis, phases1, color = 'mediumblue')\n",
    "ax.set_ylabel(r'$\\phi$/rad', useTex = True)\n",
    "ax.set_xlabel(r'$t$/s', useTex = True)\n",
    "fig.set_size_inches(11.75-1.5, 8.25-2 - 1)\n",
    "ax.set_ylim([9, -21])\n",
    "plt.show(block= True)"
   ]
  },
  {
   "cell_type": "code",
   "execution_count": null,
   "metadata": {},
   "outputs": [],
   "source": []
  }
 ],
 "metadata": {
  "interpreter": {
   "hash": "1baa965d5efe3ac65b79dfc60c0d706280b1da80fedb7760faf2759126c4f253"
  },
  "kernelspec": {
   "display_name": "Python 3.8.3 64-bit",
   "language": "python",
   "name": "python3"
  },
  "language_info": {
   "codemirror_mode": {
    "name": "ipython",
    "version": 3
   },
   "file_extension": ".py",
   "mimetype": "text/x-python",
   "name": "python",
   "nbconvert_exporter": "python",
   "pygments_lexer": "ipython3",
   "version": "3.8.3"
  },
  "orig_nbformat": 4
 },
 "nbformat": 4,
 "nbformat_minor": 2
}
